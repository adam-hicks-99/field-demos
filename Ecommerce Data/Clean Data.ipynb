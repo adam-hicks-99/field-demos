{
 "cells": [
  {
   "cell_type": "code",
   "execution_count": 0,
   "metadata": {
    "application/vnd.databricks.v1+cell": {
     "cellMetadata": {
      "byteLimit": 2048000,
      "implicitDf": true,
      "rowLimit": 10000
     },
     "inputWidgets": {},
     "nuid": "9f1ee8f0-c00e-4511-bd59-7f6a2c94e044",
     "showTitle": false,
     "tableResultSettingsMap": {},
     "title": ""
    }
   },
   "outputs": [],
   "source": [
    "%sql\n",
    "USE CATALOG field_demos;\n",
    "USE ml_ops;\n",
    "\n",
    "-- Create or replace the online_retail_curated table with cleaned and consistent descriptions\n",
    "CREATE OR REPLACE TABLE online_retail_curated AS\n",
    "\n",
    "WITH date_shift AS (\n",
    "    -- Get the max InvoiceDate and today's date\n",
    "    SELECT \n",
    "        MAX(CAST(InvoiceDate AS DATE)) AS max_date,\n",
    "        CURRENT_DATE() AS today_date\n",
    "    FROM online_retail\n",
    "),\n",
    "shifted_data AS (\n",
    "    -- Shift InvoiceDate so that the max date equals today's date\n",
    "    SELECT \n",
    "        *,\n",
    "        DATE_ADD(CAST(InvoiceDate AS DATE), \n",
    "                 DATEDIFF(CURRENT_DATE(), (SELECT max_date FROM date_shift))) AS shifted_InvoiceDate\n",
    "    FROM online_retail\n",
    "),\n",
    "chosen_description AS (\n",
    "    -- For each StockCode, choose a valid description if available; otherwise, use 'NO_DESCRIPTION'\n",
    "    SELECT \n",
    "        TRIM(UPPER(CAST(StockCode AS STRING))) AS StockCode,\n",
    "        CASE \n",
    "          WHEN COUNT(CASE \n",
    "                        WHEN Description IS NOT NULL \n",
    "                             AND UPPER(TRIM(Description)) NOT IN ('', 'NAN', 'NULL') \n",
    "                        THEN 1 END) > 0\n",
    "          THEN MIN(CASE \n",
    "                      WHEN Description IS NOT NULL \n",
    "                           AND UPPER(TRIM(Description)) NOT IN ('', 'NAN', 'NULL') \n",
    "                      THEN TRIM(UPPER(Description)) END)\n",
    "          ELSE 'NO_DESCRIPTION'\n",
    "        END AS ChosenDescription\n",
    "    FROM shifted_data\n",
    "    WHERE StockCode IS NOT NULL AND StockCode != ''\n",
    "    GROUP BY TRIM(UPPER(CAST(StockCode AS STRING)))\n",
    ")\n",
    "SELECT DISTINCT\n",
    "    TRIM(UPPER(CAST(sd.StockCode AS STRING))) AS StockCode,\n",
    "    cd.ChosenDescription AS Description,\n",
    "    CASE \n",
    "        WHEN sd.Quantity IS NULL OR sd.Quantity < 0 THEN 0 \n",
    "        ELSE sd.Quantity \n",
    "    END AS Quantity,\n",
    "    sd.shifted_InvoiceDate AS InvoiceDate,\n",
    "    sd.UnitPrice,\n",
    "    sd.CustomerID,\n",
    "    sd.Country\n",
    "FROM shifted_data sd\n",
    "LEFT JOIN chosen_description cd\n",
    "    ON TRIM(UPPER(sd.StockCode)) = cd.StockCode\n",
    "WHERE sd.StockCode IS NOT NULL AND sd.StockCode != '';\n",
    "\n",
    "-- After creating the table, show the distinct counts for verification\n",
    "SELECT \n",
    "    COUNT(DISTINCT CONCAT(StockCode, '_', Description)) AS Distinct_StockCode_Description,\n",
    "    COUNT(DISTINCT StockCode) AS Distinct_StockCode,\n",
    "    COUNT(DISTINCT Description) AS Distinct_Description\n",
    "FROM online_retail_curated;"
   ]
  }
 ],
 "metadata": {
  "application/vnd.databricks.v1+notebook": {
   "computePreferences": null,
   "dashboards": [],
   "environmentMetadata": {
    "base_environment": "",
    "environment_version": "2"
   },
   "language": "python",
   "notebookMetadata": {
    "mostRecentlyExecutedCommandWithImplicitDF": {
     "commandId": 6905030343055107,
     "dataframes": [
      "_sqldf"
     ]
    },
    "pythonIndentUnit": 4
   },
   "notebookName": "Clean Data",
   "widgets": {}
  },
  "language_info": {
   "name": "python"
  }
 },
 "nbformat": 4,
 "nbformat_minor": 0
}
