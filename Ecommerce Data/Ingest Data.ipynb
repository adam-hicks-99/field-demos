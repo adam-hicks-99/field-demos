{
 "cells": [
  {
   "cell_type": "code",
   "execution_count": 0,
   "metadata": {
    "application/vnd.databricks.v1+cell": {
     "cellMetadata": {
      "byteLimit": 2048000,
      "rowLimit": 10000
     },
     "inputWidgets": {},
     "nuid": "9b492164-2277-47f1-985a-32732439910e",
     "showTitle": false,
     "tableResultSettingsMap": {},
     "title": ""
    }
   },
   "outputs": [],
   "source": [
    "!pip install openpyxl"
   ]
  },
  {
   "cell_type": "code",
   "execution_count": 0,
   "metadata": {
    "application/vnd.databricks.v1+cell": {
     "cellMetadata": {
      "byteLimit": 2048000,
      "rowLimit": 10000
     },
     "inputWidgets": {},
     "nuid": "63042458-56be-4ed2-b2cb-d418612e0557",
     "showTitle": false,
     "tableResultSettingsMap": {},
     "title": ""
    }
   },
   "outputs": [],
   "source": [
    "dbutils.library.restartPython()"
   ]
  },
  {
   "cell_type": "code",
   "execution_count": 0,
   "metadata": {
    "application/vnd.databricks.v1+cell": {
     "cellMetadata": {
      "byteLimit": 2048000,
      "rowLimit": 10000
     },
     "inputWidgets": {},
     "nuid": "36e4cba0-2a29-4c62-a80f-1490a7408e63",
     "showTitle": false,
     "tableResultSettingsMap": {},
     "title": ""
    }
   },
   "outputs": [],
   "source": [
    "# Import necessary libraries\n",
    "import pandas as pd\n",
    "import numpy as np\n",
    "\n",
    "# Set up catalog, schema, and table names\n",
    "catalog_name = \"field_demos\"\n",
    "schema_name = \"ml_ops\"\n",
    "table_name = \"online_retail\"\n",
    "\n",
    "# Create catalog and schema if they don’t exist\n",
    "spark.sql(f\"CREATE CATALOG IF NOT EXISTS {catalog_name}\")\n",
    "spark.sql(f\"USE CATALOG {catalog_name}\")\n",
    "spark.sql(f\"CREATE SCHEMA IF NOT EXISTS {schema_name}\")\n",
    "spark.sql(f\"USE {schema_name}\")\n",
    "\n",
    "# Load public retail dataset (Online Retail from UCI)\n",
    "url = \"https://archive.ics.uci.edu/ml/machine-learning-databases/00352/Online%20Retail.xlsx\"\n",
    "df_pandas = pd.read_excel(url)\n",
    "\n",
    "# Check initial data types\n",
    "print(df_pandas.dtypes)\n",
    "\n",
    "# Explicit type casting\n",
    "df_pandas['InvoiceNo'] = df_pandas['InvoiceNo'].astype(str)\n",
    "df_pandas['StockCode'] = df_pandas['StockCode'].astype(str).fillna('UNKNOWN')\n",
    "df_pandas['Description'] = df_pandas['Description'].astype(str).fillna('N/A')\n",
    "df_pandas['Quantity'] = pd.to_numeric(df_pandas['Quantity'], errors='coerce')\n",
    "df_pandas['InvoiceDate'] = pd.to_datetime(df_pandas['InvoiceDate'], errors='coerce').dt.strftime('%Y-%m-%d')\n",
    "df_pandas['UnitPrice'] = pd.to_numeric(df_pandas['UnitPrice'], errors='coerce')\n",
    "df_pandas['CustomerID'] = pd.to_numeric(df_pandas['CustomerID'], errors='coerce').astype('Int64')\n",
    "df_pandas['Country'] = df_pandas['Country'].astype(str)\n",
    "\n",
    "# Handle missing values after type conversion\n",
    "df_pandas = df_pandas.dropna(subset=['InvoiceNo', 'StockCode', 'InvoiceDate', 'Quantity', 'UnitPrice'])\n",
    "\n",
    "# Check data types again after casting\n",
    "print(df_pandas.dtypes)\n",
    "\n",
    "# Convert Pandas DataFrame to Spark DataFrame\n",
    "df_spark = spark.createDataFrame(df_pandas)\n",
    "\n",
    "# Save as Delta table\n",
    "df_spark.write.format(\"delta\") \\\n",
    "    .mode(\"overwrite\") \\\n",
    "    .saveAsTable(f\"{catalog_name}.{schema_name}.{table_name}\")\n",
    "\n",
    "# Quick check on the new table\n",
    "display(spark.sql(f\"SELECT * FROM {catalog_name}.{schema_name}.{table_name} LIMIT 10\"))"
   ]
  }
 ],
 "metadata": {
  "application/vnd.databricks.v1+notebook": {
   "computePreferences": null,
   "dashboards": [],
   "environmentMetadata": {
    "base_environment": "",
    "environment_version": "2"
   },
   "language": "python",
   "notebookMetadata": {
    "mostRecentlyExecutedCommandWithImplicitDF": {
     "commandId": 6905030343055105,
     "dataframes": [
      "_sqldf"
     ]
    },
    "pythonIndentUnit": 4
   },
   "notebookName": "Ingest Data",
   "widgets": {}
  },
  "language_info": {
   "name": "python"
  }
 },
 "nbformat": 4,
 "nbformat_minor": 0
}
