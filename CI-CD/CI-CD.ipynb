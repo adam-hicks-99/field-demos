{
 "cells": [
  {
   "cell_type": "code",
   "execution_count": 0,
   "metadata": {
    "application/vnd.databricks.v1+cell": {
     "cellMetadata": {
      "byteLimit": 2048000,
      "rowLimit": 10000
     },
     "inputWidgets": {},
     "nuid": "23052364-319e-4899-840f-aab7d55168ba",
     "showTitle": false,
     "tableResultSettingsMap": {},
     "title": ""
    }
   },
   "outputs": [],
   "source": [
    "from pyspark.sql import SparkSession\n",
    "from pyspark.sql.functions import col\n",
    "\n",
    "# Sample data for the sku table\n",
    "sku_data = [\n",
    "    ('sku_001', 'Product A', 10, 5.0),  \n",
    "    ('sku_002', 'Product B', 20, 3.0),\n",
    "    ('sku_003', 'Product C', 15, 7.0)\n",
    "]\n",
    "\n",
    "# Define the schema for the sku table\n",
    "sku_columns = ['sku_id', 'product_name', 'quantity', 'price']\n",
    "\n",
    "# Create DataFrame for the sku table\n",
    "sku_df = spark.createDataFrame(sku_data, schema=sku_columns)\n",
    "\n",
    "sku_df.show()\n",
    "\n",
    "# Sample data for the revenue table\n",
    "revenue_data = [ \n",
    "    ('sku_001', 50.0), \n",
    "    ('sku_002', 60.0),\n",
    "    ('sku_003', 105.0)\n",
    "]\n",
    "\n",
    "revenue_columns = ['sku_id', 'revenue']\n",
    "\n",
    "# Create DataFrame for revenue table\n",
    "revenue_df = spark.createDataFrame(revenue_data, schema=revenue_columns)\n",
    "\n",
    "revenue_df.show()\n",
    "\n",
    "# Perform Regression Test: Compare the total revenue from the revenue table and calculated revenue from sku table\n",
    "\n",
    "# Calculate the total revenue from the revenue table\n",
    "total_revenue_from_revenue_table = revenue_df.agg({'revenue': 'sum'}).collect()[0][0]\n",
    "\n",
    "# Calculate the revenue based on sku table (quantity * price)\n",
    "calculated_revenue = sku_df.withColumn('calculated_revenue', col('quantity') * col('price')) \\\n",
    "                           .agg({'calculated_revenue': 'sum'}).collect()[0][0]\n",
    "\n",
    "print(f\"Total revenue from revenue table: {total_revenue_from_revenue_table}\")\n",
    "print(f\"Calculated revenue based on SKU table: {calculated_revenue}\")\n",
    "\n",
    "# Perform regression test\n",
    "if total_revenue_from_revenue_table == calculated_revenue:\n",
    "    print(\"Regression test passed: Revenue is consistent\")\n",
    "else:\n",
    "    print(f\"Regression test failed: {total_revenue_from_revenue_table} != {calculated_revenue}\")\n",
    "    raise Exception(\"Regression test failed\")\n"
   ]
  },
  {
   "cell_type": "code",
   "execution_count": 0,
   "metadata": {
    "application/vnd.databricks.v1+cell": {
     "cellMetadata": {},
     "inputWidgets": {},
     "nuid": "6c95b41a-65fb-4a18-b10b-958bfece6001",
     "showTitle": false,
     "tableResultSettingsMap": {},
     "title": ""
    }
   },
   "outputs": [],
   "source": []
  }
 ],
 "metadata": {
  "application/vnd.databricks.v1+notebook": {
   "computePreferences": null,
   "dashboards": [],
   "environmentMetadata": {
    "base_environment": "",
    "environment_version": "2"
   },
   "language": "python",
   "notebookMetadata": {
    "pythonIndentUnit": 2
   },
   "notebookName": "CI-CD",
   "widgets": {}
  },
  "language_info": {
   "name": "python"
  }
 },
 "nbformat": 4,
 "nbformat_minor": 0
}
