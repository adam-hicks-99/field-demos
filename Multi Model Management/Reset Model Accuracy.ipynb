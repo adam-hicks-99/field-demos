{
 "cells": [
  {
   "cell_type": "code",
   "execution_count": 0,
   "metadata": {
    "application/vnd.databricks.v1+cell": {
     "cellMetadata": {
      "byteLimit": 2048000,
      "rowLimit": 10000
     },
     "inputWidgets": {},
     "nuid": "e2a08883-1fe0-4b24-a1c9-769b3d009038",
     "showTitle": false,
     "tableResultSettingsMap": {},
     "title": ""
    }
   },
   "outputs": [],
   "source": [
    "from pyspark.sql.functions import col\n",
    "\n",
    "# Create widgets for min and max accuracy\n",
    "dbutils.widgets.text(\"min_accuracy\", \".5\", \"Min Accuracy\")\n",
    "dbutils.widgets.text(\"max_accuracy\", \".8\", \"Max Accuracy\")\n",
    "\n",
    "# Retrieve the values from the widgets\n",
    "min_accuracy = float(dbutils.widgets.get(\"min_accuracy\"))\n",
    "max_accuracy = float(dbutils.widgets.get(\"max_accuracy\"))"
   ]
  },
  {
   "cell_type": "code",
   "execution_count": 0,
   "metadata": {
    "application/vnd.databricks.v1+cell": {
     "cellMetadata": {
      "byteLimit": 2048000,
      "rowLimit": 10000
     },
     "inputWidgets": {},
     "nuid": "9bf4fe74-cb7f-4d98-8cc8-f6c419e62be7",
     "showTitle": false,
     "tableResultSettingsMap": {},
     "title": ""
    }
   },
   "outputs": [],
   "source": [
    "import random\n",
    "from mlflow.tracking import MlflowClient\n",
    "import mlflow\n",
    "\n",
    "# Set the registry URI for Unity Catalog\n",
    "mlflow.tracking._model_registry.utils._get_registry_uri_from_spark_session = lambda: \"databricks-uc\"\n",
    "\n",
    "# Initialize the MLflow client\n",
    "client = MlflowClient()\n",
    "\n",
    "# Search for all registered models\n",
    "registered_models = client.search_registered_models()\n",
    "\n",
    "# Iterate over models in the specified namespace and update their accuracy metric\n",
    "for model in registered_models:\n",
    "    if model.name.startswith(\"field_demos.ml_ops\"):\n",
    "        print(f\"Processing model: {model.name}\")\n",
    "        # Retrieve all versions of this model\n",
    "        model_versions = client.search_model_versions(f\"name='{model.name}'\")\n",
    "        if not model_versions:\n",
    "            print(\"  No versions found.\")\n",
    "        else:\n",
    "            for version in model_versions:\n",
    "                new_accuracy = round(random.uniform(min_accuracy, max_accuracy), 3)\n",
    "                print(f\"  Updating version: {version.version} (Run ID: {version.run_id}) with new accuracy: {new_accuracy}\")\n",
    "                try:\n",
    "                    # Resume the run using its run_id and log the new accuracy metric.\n",
    "                    # This assumes the run is still active or can be resumed.\n",
    "                    with mlflow.start_run(run_id=version.run_id):\n",
    "                        mlflow.log_metric(\"accuracy\", new_accuracy)\n",
    "                except Exception as e:\n",
    "                    print(f\"  Failed to update run {version.run_id}: {e}\")\n",
    "        print(\"-\" * 50)"
   ]
  },
  {
   "cell_type": "code",
   "execution_count": 0,
   "metadata": {
    "application/vnd.databricks.v1+cell": {
     "cellMetadata": {},
     "inputWidgets": {},
     "nuid": "a9865248-a894-486b-8c6b-1763b081df4b",
     "showTitle": false,
     "tableResultSettingsMap": {},
     "title": ""
    }
   },
   "outputs": [],
   "source": []
  }
 ],
 "metadata": {
  "application/vnd.databricks.v1+notebook": {
   "computePreferences": null,
   "dashboards": [],
   "environmentMetadata": {
    "base_environment": "",
    "environment_version": "2"
   },
   "language": "python",
   "notebookMetadata": {
    "pythonIndentUnit": 4
   },
   "notebookName": "Reset Model Accuracy",
   "widgets": {
    "max_accuracy": {
     "currentValue": ".8",
     "nuid": "c15aecfa-9699-40be-8457-cf3b88828aef",
     "typedWidgetInfo": {
      "autoCreated": false,
      "defaultValue": ".8",
      "label": "Max Accuracy",
      "name": "max_accuracy",
      "options": {
       "widgetDisplayType": "Text",
       "validationRegex": null
      },
      "parameterDataType": "String"
     },
     "widgetInfo": {
      "widgetType": "text",
      "defaultValue": ".8",
      "label": "Max Accuracy",
      "name": "max_accuracy",
      "options": {
       "widgetType": "text",
       "autoCreated": null,
       "validationRegex": null
      }
     }
    },
    "min_accuracy": {
     "currentValue": ".5",
     "nuid": "4ae2255b-ee91-4be8-b86b-1336da320905",
     "typedWidgetInfo": {
      "autoCreated": false,
      "defaultValue": ".5",
      "label": "Min Accuracy",
      "name": "min_accuracy",
      "options": {
       "widgetDisplayType": "Text",
       "validationRegex": null
      },
      "parameterDataType": "String"
     },
     "widgetInfo": {
      "widgetType": "text",
      "defaultValue": ".5",
      "label": "Min Accuracy",
      "name": "min_accuracy",
      "options": {
       "widgetType": "text",
       "autoCreated": null,
       "validationRegex": null
      }
     }
    }
   }
  },
  "language_info": {
   "name": "python"
  }
 },
 "nbformat": 4,
 "nbformat_minor": 0
}
