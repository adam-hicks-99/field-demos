{
 "cells": [
  {
   "cell_type": "code",
   "execution_count": 0,
   "metadata": {
    "application/vnd.databricks.v1+cell": {
     "cellMetadata": {
      "byteLimit": 2048000,
      "rowLimit": 10000
     },
     "inputWidgets": {},
     "nuid": "0bd27708-4600-4ac2-8a04-16c5dcb32565",
     "showTitle": false,
     "tableResultSettingsMap": {},
     "title": ""
    }
   },
   "outputs": [],
   "source": [
    "from mlflow.tracking import MlflowClient\n",
    "import mlflow\n",
    "\n",
    "# Set the registry URI for Unity Catalog\n",
    "mlflow.tracking._model_registry.utils._get_registry_uri_from_spark_session = lambda: \"databricks-uc\"\n",
    "\n",
    "# Initialize the MLflow client\n",
    "client = MlflowClient()\n",
    "\n",
    "# Search for all registered models\n",
    "registered_models = client.search_registered_models()\n",
    "\n",
    "# Iterate over models in the specified namespace and delete their versions and registrations\n",
    "for model in registered_models:\n",
    "    if model.name.startswith(\"field_demos.ml_ops\"):\n",
    "        print(f\"Processing model: {model.name}\")\n",
    "        # Retrieve all versions of this model\n",
    "        model_versions = client.search_model_versions(f\"name='{model.name}'\")\n",
    "        if not model_versions:\n",
    "            print(\"  No versions found.\")\n",
    "        else:\n",
    "            for version in model_versions:\n",
    "                print(f\"  Deleting version: {version.version} (Run ID: {version.run_id})\")\n",
    "                client.delete_model_version(model.name, version.version)\n",
    "        # Delete the registered model\n",
    "        print(f\"  Deleting registered model: {model.name}\")\n",
    "        client.delete_registered_model(model.name)\n",
    "        print(\"-\" * 50)"
   ]
  },
  {
   "cell_type": "code",
   "execution_count": 0,
   "metadata": {
    "application/vnd.databricks.v1+cell": {
     "cellMetadata": {},
     "inputWidgets": {},
     "nuid": "3c8efd67-6ee9-4b9b-ac06-bc8f5d455220",
     "showTitle": false,
     "tableResultSettingsMap": {},
     "title": ""
    }
   },
   "outputs": [],
   "source": []
  }
 ],
 "metadata": {
  "application/vnd.databricks.v1+notebook": {
   "computePreferences": null,
   "dashboards": [],
   "environmentMetadata": {
    "base_environment": "",
    "environment_version": "2"
   },
   "language": "python",
   "notebookMetadata": {
    "pythonIndentUnit": 4
   },
   "notebookName": "Delete Models",
   "widgets": {}
  },
  "language_info": {
   "name": "python"
  }
 },
 "nbformat": 4,
 "nbformat_minor": 0
}
