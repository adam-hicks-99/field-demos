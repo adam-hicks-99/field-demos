{
 "cells": [
  {
   "cell_type": "code",
   "execution_count": 0,
   "metadata": {
    "application/vnd.databricks.v1+cell": {
     "cellMetadata": {
      "byteLimit": 2048000,
      "rowLimit": 10000
     },
     "inputWidgets": {},
     "nuid": "1a364da1-5f58-4223-9f2c-09614e76cd58",
     "showTitle": false,
     "tableResultSettingsMap": {},
     "title": ""
    }
   },
   "outputs": [],
   "source": [
    "from mlflow.tracking import MlflowClient\n",
    "import mlflow\n",
    "\n",
    "# Set the registry URI for Unity Catalog\n",
    "mlflow.tracking._model_registry.utils._get_registry_uri_from_spark_session = lambda: \"databricks-uc\"\n",
    "\n",
    "# Initialize the MLflow client\n",
    "client = MlflowClient()\n",
    "\n",
    "# Search for all registered models\n",
    "registered_models = client.search_registered_models()\n",
    "\n",
    "# Iterate over models in the desired namespace\n",
    "for model in registered_models:\n",
    "    if model.name.startswith(\"field_demos.ml_ops\"):\n",
    "        # Retrieve all versions for this model\n",
    "        model_versions = client.search_model_versions(f\"name='{model.name}'\")\n",
    "        \n",
    "        if not model_versions:\n",
    "            print(f\"No versions found for model: {model.name}\")\n",
    "            continue\n",
    "\n",
    "        best_version = None\n",
    "        best_accuracy = -float('inf')\n",
    "        \n",
    "        # Find the version with the highest accuracy metric\n",
    "        for version in model_versions:\n",
    "            run = client.get_run(version.run_id)\n",
    "            accuracy = run.data.metrics.get(\"accuracy\")\n",
    "            try:\n",
    "                acc_value = float(accuracy) if accuracy is not None else -float('inf')\n",
    "            except (TypeError, ValueError):\n",
    "                acc_value = -float('inf')\n",
    "            \n",
    "            if acc_value > best_accuracy:\n",
    "                best_accuracy = acc_value\n",
    "                best_version = version\n",
    "        \n",
    "        if best_version is None:\n",
    "            print(f\"No valid accuracy found for model: {model.name}\")\n",
    "            continue\n",
    "\n",
    "        print(f\"Best version for model {model.name} is {best_version.version} with accuracy {best_accuracy}\")\n",
    "        \n",
    "        # Delete all versions except for the best one\n",
    "        for version in model_versions:\n",
    "            if version.version != best_version.version:\n",
    "                client.delete_model_version(model.name, version.version)\n",
    "                print(f\"Deleted model version {version.version} for model {model.name}\")\n",
    "        \n",
    "        # Update the description of the best version to 'prod'\n",
    "        client.update_model_version(model.name, best_version.version, description=\"prod\")\n",
    "        print(f\"Updated model {model.name} version {best_version.version} description to 'prod'\")"
   ]
  },
  {
   "cell_type": "code",
   "execution_count": 0,
   "metadata": {
    "application/vnd.databricks.v1+cell": {
     "cellMetadata": {},
     "inputWidgets": {},
     "nuid": "fd832011-ac82-43c9-96ae-bc1d11abaa62",
     "showTitle": false,
     "tableResultSettingsMap": {},
     "title": ""
    }
   },
   "outputs": [],
   "source": []
  }
 ],
 "metadata": {
  "application/vnd.databricks.v1+notebook": {
   "computePreferences": null,
   "dashboards": [],
   "environmentMetadata": {
    "base_environment": "",
    "environment_version": "2"
   },
   "language": "python",
   "notebookMetadata": {
    "pythonIndentUnit": 4
   },
   "notebookName": "Set Best Models to Prod",
   "widgets": {}
  },
  "language_info": {
   "name": "python"
  }
 },
 "nbformat": 4,
 "nbformat_minor": 0
}
