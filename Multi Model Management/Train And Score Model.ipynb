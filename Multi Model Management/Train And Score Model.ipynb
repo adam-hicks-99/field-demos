{
 "cells": [
  {
   "cell_type": "code",
   "execution_count": 0,
   "metadata": {
    "application/vnd.databricks.v1+cell": {
     "cellMetadata": {
      "byteLimit": 2048000,
      "rowLimit": 10000
     },
     "inputWidgets": {},
     "nuid": "ac3c8356-27f2-46d0-84c6-d9413ca45285",
     "showTitle": false,
     "tableResultSettingsMap": {},
     "title": ""
    }
   },
   "outputs": [],
   "source": [
    "dbutils.widgets.text(\"model_name\", \"\")"
   ]
  },
  {
   "cell_type": "code",
   "execution_count": 0,
   "metadata": {
    "application/vnd.databricks.v1+cell": {
     "cellMetadata": {
      "byteLimit": 2048000,
      "rowLimit": 10000
     },
     "inputWidgets": {},
     "nuid": "de6b6a5c-eb2d-447f-a74b-070d2c079b33",
     "showTitle": false,
     "tableResultSettingsMap": {},
     "title": ""
    }
   },
   "outputs": [],
   "source": [
    "model_name = dbutils.widgets.get(\"model_name\")"
   ]
  },
  {
   "cell_type": "code",
   "execution_count": 0,
   "metadata": {
    "application/vnd.databricks.v1+cell": {
     "cellMetadata": {
      "byteLimit": 2048000,
      "rowLimit": 10000
     },
     "inputWidgets": {},
     "nuid": "c671f738-d9ee-462e-8567-4344891651ee",
     "showTitle": false,
     "tableResultSettingsMap": {},
     "title": ""
    }
   },
   "outputs": [],
   "source": [
    "model_name"
   ]
  },
  {
   "cell_type": "code",
   "execution_count": 0,
   "metadata": {
    "application/vnd.databricks.v1+cell": {
     "cellMetadata": {},
     "inputWidgets": {},
     "nuid": "68288e62-004a-4896-a395-255423835be2",
     "showTitle": false,
     "tableResultSettingsMap": {},
     "title": ""
    }
   },
   "outputs": [],
   "source": [
    "import mlflow\n",
    "import mlflow.pyfunc\n",
    "import random\n",
    "import pandas as pd\n",
    "from mlflow.models.signature import infer_signature\n",
    "from pyspark.sql.functions import current_timestamp\n",
    "from mlflow.tracking import MlflowClient\n",
    "from datetime import datetime\n",
    "\n",
    "\n",
    "class DummyModel(mlflow.pyfunc.PythonModel):\n",
    "    def __init__(self, model_id, coefficient, bias, accuracy):\n",
    "        self.model_id = model_id\n",
    "        self.coefficient = coefficient\n",
    "        self.bias = bias\n",
    "        self.accuracy = accuracy\n",
    "\n",
    "    def predict(self, context, model_input):\n",
    "        # Simple linear transformation: output = coefficient * input + bias\n",
    "        return [self.coefficient * x + self.bias for x in model_input]\n",
    "\n",
    "def train_dummy_model_for_model_id(model_id):\n",
    "    \"\"\"\n",
    "    Trains a dummy model for a given model_id, logs it with MLflow,\n",
    "    sets a description on the model version based on version (using the MLflow description methods), and \n",
    "    appends run details (including the UC model location) to the master table.\n",
    "    \"\"\"\n",
    "    # Generate dummy parameters and accuracy.\n",
    "    coefficient = random.uniform(0.5, 1.5)\n",
    "    bias = random.uniform(-1, 1)\n",
    "    accuracy = random.uniform(0.75, 0.8)\n",
    "    \n",
    "    model = DummyModel(model_id, coefficient, bias, accuracy)\n",
    "    \n",
    "    # Create an example input DataFrame for signature inference.\n",
    "    example_input = pd.DataFrame({\"x\": [0, 1, 2, 3, 4, 5]})\n",
    "    example_output = model.predict(None, example_input[\"x\"].tolist())\n",
    "    signature = infer_signature(example_input, example_output)\n",
    "    \n",
    "    artifact_path = f\"dummy_model_{model_id}\"\n",
    "    registered_model_name = model_id\n",
    "    \n",
    "    with mlflow.start_run() as run:\n",
    "        mlflow.log_param(\"model_id\", model_id)\n",
    "        mlflow.log_param(\"coefficient\", coefficient)\n",
    "        mlflow.log_param(\"bias\", bias)\n",
    "        mlflow.log_metric(\"accuracy\", accuracy)\n",
    "        \n",
    "        mlflow.pyfunc.log_model(\n",
    "            artifact_path=artifact_path,\n",
    "            python_model=model,\n",
    "            signature=signature,\n",
    "            registered_model_name=registered_model_name\n",
    "        )\n",
    "        \n",
    "        run_id = run.info.run_id\n",
    "        print(f\"Logged DummyModel for model_id '{model_id}' with run ID: {run_id} and accuracy: {accuracy:.3f}\")\n",
    "        \n",
    "        client = MlflowClient()\n",
    "        # Retrieve all versions of this registered model.\n",
    "        model_versions = client.search_model_versions(f\"name='{registered_model_name}'\")\n",
    "        new_version = max([int(mv.version) for mv in model_versions])\n",
    "        \n",
    "        # Instead of setting an alias, update the model version's description.\n",
    "        if len(model_versions) == 1:\n",
    "            description = \"prod\"\n",
    "        else:\n",
    "            description = f\"challenger_{datetime.now().strftime('%Y%m%d%H%M%S')}\"\n",
    "        \n",
    "        client.update_model_version(\n",
    "            name=registered_model_name,\n",
    "            version=str(new_version),\n",
    "            description=description\n",
    "        )\n",
    "        print(f\"Set description for model '{registered_model_name}' version {new_version} to '{description}'.\")\n",
    "        \n",
    "        # Build the UC model location (URI) that can be used to load the model.\n",
    "        # Note: The URI no longer uses alias but can refer to the version with description.\n",
    "        model_location = f\"models:/{registered_model_name}/{new_version}\"\n",
    "    \n",
    "    return model"
   ]
  },
  {
   "cell_type": "code",
   "execution_count": 0,
   "metadata": {
    "application/vnd.databricks.v1+cell": {
     "cellMetadata": {},
     "inputWidgets": {},
     "nuid": "55a1387b-4024-4218-a05a-2b98b8ad9855",
     "showTitle": false,
     "tableResultSettingsMap": {},
     "title": ""
    }
   },
   "outputs": [],
   "source": [
    "# Ensure MLflow uses the Databricks Unity Catalog registry.\n",
    "mlflow.tracking._model_registry.utils._get_registry_uri_from_spark_session = lambda: \"databricks-uc\"\n",
    "\n",
    "train_dummy_model_for_model_id(model_name)"
   ]
  }
 ],
 "metadata": {
  "application/vnd.databricks.v1+notebook": {
   "computePreferences": null,
   "dashboards": [],
   "environmentMetadata": {
    "base_environment": "",
    "environment_version": "2"
   },
   "language": "python",
   "notebookMetadata": {
    "pythonIndentUnit": 4
   },
   "notebookName": "Train And Score Model",
   "widgets": {
    "model_name": {
     "currentValue": "",
     "nuid": "4ade2157-c29d-4e34-b2b9-e0c235df043e",
     "typedWidgetInfo": {
      "autoCreated": false,
      "defaultValue": "",
      "label": null,
      "name": "model_name",
      "options": {
       "widgetDisplayType": "Text",
       "validationRegex": null
      },
      "parameterDataType": "String"
     },
     "widgetInfo": {
      "widgetType": "text",
      "defaultValue": "",
      "label": null,
      "name": "model_name",
      "options": {
       "widgetType": "text",
       "autoCreated": null,
       "validationRegex": null
      }
     }
    }
   }
  },
  "language_info": {
   "name": "python"
  }
 },
 "nbformat": 4,
 "nbformat_minor": 0
}
