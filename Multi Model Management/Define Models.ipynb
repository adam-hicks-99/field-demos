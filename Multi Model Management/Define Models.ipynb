{
 "cells": [
  {
   "cell_type": "code",
   "execution_count": 0,
   "metadata": {
    "application/vnd.databricks.v1+cell": {
     "cellMetadata": {},
     "inputWidgets": {},
     "nuid": "62b44849-d84e-49a3-ba9c-9834429130af",
     "showTitle": false,
     "tableResultSettingsMap": {},
     "title": ""
    }
   },
   "outputs": [],
   "source": [
    "# List of model_ids to track the definition of different models.\n",
    "model_ids = [\n",
    "    \"field_demos.ml_ops.churn_prediction\",\n",
    "    \"field_demos.ml_ops.fraud_detection\",\n",
    "    \"field_demos.ml_ops.customer_segmentation\",\n",
    "    \"field_demos.ml_ops.demand_forecasting\",\n",
    "    \"field_demos.ml_ops.product_recommendation\"\n",
    "]\n",
    "\n",
    "# Instead of training models in this task, send the list of model_ids to the next job task.\n",
    "dbutils.jobs.taskValues.set(key=\"model_ids\", value=model_ids)"
   ]
  }
 ],
 "metadata": {
  "application/vnd.databricks.v1+notebook": {
   "computePreferences": null,
   "dashboards": [],
   "environmentMetadata": {
    "base_environment": "",
    "environment_version": "2"
   },
   "language": "python",
   "notebookMetadata": {
    "pythonIndentUnit": 4
   },
   "notebookName": "Define Models",
   "widgets": {}
  },
  "language_info": {
   "name": "python"
  }
 },
 "nbformat": 4,
 "nbformat_minor": 0
}
